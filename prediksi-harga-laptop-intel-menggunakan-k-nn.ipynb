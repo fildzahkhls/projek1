{
 "cells": [
  {
   "cell_type": "markdown",
   "id": "66427c33",
   "metadata": {
    "papermill": {
     "duration": 0.008781,
     "end_time": "2023-07-06T04:25:09.344189",
     "exception": false,
     "start_time": "2023-07-06T04:25:09.335408",
     "status": "completed"
    },
    "tags": []
   },
   "source": [
    "# **Prediksi Harga Pasar Laptop Intel dengan K-Nearest Neighbors (KNN) Berdasarkan Spesifikasi Laptop**\n",
    "Pada proyek kami yang berjudul 'Prediksi Harga Pasar Laptop Intel dengan K-Nearest Neighbors (KNN) Berdasarkan Spesifikasi Laptop', kami menggunakan algoritma K-Nearest Neighbors (KNN) sebagai pendekatan utama dalam membangun model prediksi. Algoritma KNN adalah metode machine learning yang populer dalam tugas klasifikasi dan regresi. Dalam konteks kami, KNN digunakan untuk memprediksi harga pasar laptop berdasarkan spesifikasi laptop yang diberikan.\n",
    "\n",
    "Konsep dasar KNN adalah mencari tetangga terdekat (nearest neighbors) dari data yang ingin diprediksi berdasarkan jaraknya dengan data pelatihan yang telah diketahui labelnya. Dalam kasus ini, kita mencari laptop dengan spesifikasi yang paling mirip dengan laptop yang ingin diprediksi harga pasarannya.\n",
    "\n",
    "Metrik jarak yang umum digunakan dalam KNN adalah jarak Euclidean, di mana jarak antara dua titik dihitung sebagai jarak linier langsung antara keduanya. Dengan mempertimbangkan k-neighbors terdekat dari data yang ingin diprediksi, KNN memberikan prediksi harga pasar laptop Intel berdasarkan harga rata-rata dari tetangga terdekatnya.\n",
    "\n",
    "Dengan menggunakan pendekatan KNN, kami berharap dapat menghasilkan prediksi yang akurat dan relevan untuk harga pasar laptop Intel berdasarkan spesifikasi laptop yang diberikan, memberikan wawasan yang berharga bagi konsumen dan produsen dalam pengambilan keputusan terkait harga dan spesifikasi laptop"
   ]
  },
  {
   "cell_type": "markdown",
   "id": "eab132f6",
   "metadata": {
    "papermill": {
     "duration": 0.007605,
     "end_time": "2023-07-06T04:25:09.360327",
     "exception": false,
     "start_time": "2023-07-06T04:25:09.352722",
     "status": "completed"
    },
    "tags": []
   },
   "source": [
    "**Daftar Isi**\n",
    "\n",
    "* Landasan Teori\n",
    "* Pengertian KNN\n",
    "* Langkah kerja\n",
    "* Import Library\n",
    "* Load data harga laptop\n",
    "* Bersihkan data yang tidak lengkap\n",
    "* Definisikan input output data yang menggunakan tipe data integer dan float\n",
    "* Membagi data untuk training dan validasi (test)\n",
    "* Membangun machine learning model dengan algoritma K-Nearest Neighbors\n",
    "* Menggunakan Elbow method untuk menentukan nilak K terbaik\n",
    "* Menampilkan grafik nilai k berdasarkan MSE\n",
    "* Melakukan koreksi nilai K dengan menggunakan nilai K terbaik berdasarkan hasil dari Elbow method"
   ]
  },
  {
   "cell_type": "markdown",
   "id": "da4855fd",
   "metadata": {
    "papermill": {
     "duration": 0.00782,
     "end_time": "2023-07-06T04:25:09.376063",
     "exception": false,
     "start_time": "2023-07-06T04:25:09.368243",
     "status": "completed"
    },
    "tags": []
   },
   "source": [
    "**Landasan Teori**\n",
    "\n",
    "Prediksi Harga Pasar Laptop Intel dengan menggunakan algoritma K-Nearest Neighbors (KNN) didasarkan pada konsep pembelajaran terawasi (supervised learning) dalam machine learning. Dalam pembelajaran terawasi, kita menggunakan dataset yang terdiri dari pasangan fitur dan label (harga pasar laptop). Fitur-fitur laptop seperti ukuran RAM, kapasitas penyimpanan, tipe prosesor, dan fitur-fitur lainnya digunakan sebagai input untuk memprediksi label, yaitu harga pasar laptop.\n",
    "\n",
    "Algoritma KNN bekerja dengan mencari tetangga terdekat berdasarkan jarak antara spesifikasi laptop yang ingin diprediksi dengan data latih yang ada. Metrik jarak Euclidean sering digunakan untuk mengukur kesamaan antara data. Setelah menemukan tetangga terdekat, KNN melakukan prediksi harga pasar laptop berdasarkan nilai rata-rata dari harga tetangga terdekat tersebut.\n",
    "\n",
    "Dalam proses pelatihan, model KNN mempelajari hubungan antara fitur-fitur laptop dan harga pasar yang ada dalam data latih. Dengan menyesuaikan hyperparameter seperti jumlah tetangga (K) dan metrik jarak, kinerja model KNN dapat dievaluasi menggunakan metrik evaluasi seperti mean squared error (MSE).\n",
    "\n",
    "Metrik evaluasi MSE digunakan untuk mengukur sejauh mana prediksi model mendekati nilai sebenarnya (harga pasar laptop). Dalam kasus ini, MSE old model merujuk pada MSE (mean squared error) dari model KNN sebelumnya, sedangkan MSE new model merujuk pada MSE dari model KNN yang diperbarui dengan nilai K terbaik berdasarkan metode Elbow. Improvement (perbaikan) dihitung sebagai selisih antara MSE old model dan MSE new model, yang memberikan gambaran tentang perbaikan atau penurunan kualitas prediksi setelah pembaruan model.\n",
    "\n",
    "Dengan menggunakan metode evaluasi seperti MSE dan perbandingan antara MSE old model dan MSE new model, kita dapat mengevaluasi performa model KNN dalam prediksi harga pasar laptop berdasarkan spesifikasinya."
   ]
  },
  {
   "cell_type": "markdown",
   "id": "61290aa2",
   "metadata": {
    "papermill": {
     "duration": 0.007728,
     "end_time": "2023-07-06T04:25:09.391618",
     "exception": false,
     "start_time": "2023-07-06T04:25:09.383890",
     "status": "completed"
    },
    "tags": []
   },
   "source": [
    "**Pengertian KNN**\n",
    "\n",
    "K-Nearest Neighbor (KNN) adalah suatu metode yang menggunakan algoritma supervised dimana hasil dari query instance yang baru diklasifikan berdasarkan mayoritas darikategori pada KNN. Tujuan dari algoritma ini adalah mengklasifikasikan obyek baru bedasarkan atribut dan training sample. Classifier tidak menggunakan model apapun untukdicocokkan dan hanya berdasarkan pada memori. Diberikan titik query,akan ditemukan sejumlah k obyek atau (titik training) yang paling dekat dengan titik\n",
    "query. Klasifikasi menggunakan voting terbanyak diantara klasifikasi dari k obyek.. algoritma KNN menggunakan klasifikasi ketetanggaan sebagai nilai prediksi dari query instance yang baru"
   ]
  },
  {
   "cell_type": "markdown",
   "id": "8168901d",
   "metadata": {
    "papermill": {
     "duration": 0.007827,
     "end_time": "2023-07-06T04:25:09.407548",
     "exception": false,
     "start_time": "2023-07-06T04:25:09.399721",
     "status": "completed"
    },
    "tags": []
   },
   "source": [
    "**Langkah kerja**\n",
    "\n",
    "Langkah-1: Tentukan jumlah tetangga terdekat (K) yang akan dipertimbangkan sebagai dasar klasifikasi.\n",
    "Langkah-2: Hitung jarak antara data baru terhadap semua titik data dalam dataset.\n",
    "Langkah 3: Urutkan jarak pada langkah 2 dari kecil ke besar, lalu ambil titik data dengan jarak terkecil sejumlah K titik.\n",
    "Langkah-4: Hitung jumlah titik data K pada setiap kelas atau kategori.\n",
    "Langkah-5: Masukkan data baru ke kelas dengan jumlah K terbanyak."
   ]
  },
  {
   "cell_type": "markdown",
   "id": "3c54e81d",
   "metadata": {
    "papermill": {
     "duration": 0.008182,
     "end_time": "2023-07-06T04:25:09.424034",
     "exception": false,
     "start_time": "2023-07-06T04:25:09.415852",
     "status": "completed"
    },
    "tags": []
   },
   "source": [
    "# **1. Import Library**"
   ]
  },
  {
   "cell_type": "code",
   "execution_count": 1,
   "id": "1b72c24b",
   "metadata": {
    "execution": {
     "iopub.execute_input": "2023-07-06T04:25:09.452159Z",
     "iopub.status.busy": "2023-07-06T04:25:09.448714Z",
     "iopub.status.idle": "2023-07-06T04:25:10.979019Z",
     "shell.execute_reply": "2023-07-06T04:25:10.977938Z"
    },
    "id": "zvyE0UkNrcb8",
    "papermill": {
     "duration": 1.550057,
     "end_time": "2023-07-06T04:25:10.982081",
     "exception": false,
     "start_time": "2023-07-06T04:25:09.432024",
     "status": "completed"
    },
    "tags": []
   },
   "outputs": [],
   "source": [
    "import pandas as pd\n",
    "import numpy as np\n",
    "import matplotlib.pyplot as plt\n",
    "import sklearn.metrics as metrics"
   ]
  },
  {
   "cell_type": "markdown",
   "id": "4c435c7c",
   "metadata": {
    "papermill": {
     "duration": 0.007838,
     "end_time": "2023-07-06T04:25:10.998325",
     "exception": false,
     "start_time": "2023-07-06T04:25:10.990487",
     "status": "completed"
    },
    "tags": []
   },
   "source": [
    "# **2. Import Dataset**"
   ]
  },
  {
   "cell_type": "code",
   "execution_count": 2,
   "id": "536e2e7c",
   "metadata": {
    "execution": {
     "iopub.execute_input": "2023-07-06T04:25:11.016016Z",
     "iopub.status.busy": "2023-07-06T04:25:11.015639Z",
     "iopub.status.idle": "2023-07-06T04:25:11.042505Z",
     "shell.execute_reply": "2023-07-06T04:25:11.041432Z"
    },
    "id": "2SBNp4B1xZrL",
    "outputId": "34536f5b-e52a-436a-8077-72885d752471",
    "papermill": {
     "duration": 0.039212,
     "end_time": "2023-07-06T04:25:11.045717",
     "exception": false,
     "start_time": "2023-07-06T04:25:11.006505",
     "status": "completed"
    },
    "tags": []
   },
   "outputs": [
    {
     "data": {
      "text/plain": [
       "(100, 9)"
      ]
     },
     "execution_count": 2,
     "metadata": {},
     "output_type": "execute_result"
    }
   ],
   "source": [
    "lokasidata='/kaggle/input/data-laptop/laptopss.csv'\n",
    "row_data = pd.read_csv(lokasidata)\n",
    "row_data.shape"
   ]
  },
  {
   "cell_type": "markdown",
   "id": "9a466c99",
   "metadata": {
    "papermill": {
     "duration": 0.007676,
     "end_time": "2023-07-06T04:25:11.062589",
     "exception": false,
     "start_time": "2023-07-06T04:25:11.054913",
     "status": "completed"
    },
    "tags": []
   },
   "source": [
    "# **3. Menampilkan Dataset**"
   ]
  },
  {
   "cell_type": "code",
   "execution_count": 3,
   "id": "77507832",
   "metadata": {
    "execution": {
     "iopub.execute_input": "2023-07-06T04:25:11.080223Z",
     "iopub.status.busy": "2023-07-06T04:25:11.079854Z",
     "iopub.status.idle": "2023-07-06T04:25:11.103992Z",
     "shell.execute_reply": "2023-07-06T04:25:11.102801Z"
    },
    "id": "0q9yqDxNx2JV",
    "outputId": "d469aa64-aec6-4259-d07e-cffa1134e1a9",
    "papermill": {
     "duration": 0.035853,
     "end_time": "2023-07-06T04:25:11.106472",
     "exception": false,
     "start_time": "2023-07-06T04:25:11.070619",
     "status": "completed"
    },
    "tags": []
   },
   "outputs": [
    {
     "data": {
      "text/plain": [
       "<bound method NDFrame.describe of     Unnamed: 0                                        Nama Laptop  Processor  \\\n",
       "0            1  HP 14s Intel Core i3 11th Gen - (8 GB/256 GB S...          3   \n",
       "1            2  Lenovo V15 G2 Core i3 11th Gen - (8 GB/512 GB ...          3   \n",
       "2            3  HP 15s Intel Core i3 12th Gen - (8 GB/512 GB S...          3   \n",
       "3            4  ASUS VivoBook 15 (2022) Core i3 10th Gen - (8 ...          3   \n",
       "4            9  HP 15s Intel Core i5 12th Gen - (8 GB/512 GB S...          5   \n",
       "..         ...                                                ...        ...   \n",
       "95         186  MSI Crosshair 15 Core i7 12th Gen - (16 GB/512...          7   \n",
       "96         189  acer Aspire Vero(Green PC ) Core i5 11th Gen -...          5   \n",
       "97         192  HP Pavilion PLUS Core i5 12th Gen - (16 GB/512...          5   \n",
       "98         195  HP Envy x360 Intel Evo Core i7 12th Gen - (16 ...          7   \n",
       "99         189  Acer Intel EVO Swift 5 Core i5 11th Gen - (8 G...          5   \n",
       "\n",
       "    RAM  Storage  Display  Berat  Baterai     Price  \n",
       "0     8      256     14.0   1.46     45.0   5000000  \n",
       "1     8      512     15.6   1.70     38.0   6100000  \n",
       "2     8      512     15.6   1.46     40.0   8000000  \n",
       "3     8      512     15.6   1.47     39.0   6500000  \n",
       "4     8      512     15.6   1.56     42.0   9000000  \n",
       "..  ...      ...      ...    ...      ...       ...  \n",
       "95   16      512     15.6   2.25     54.0  16000000  \n",
       "96    8      512     15.6   1.80     65.0  12000000  \n",
       "97   16      512     14.0   1.41     43.0  13000000  \n",
       "98   16     1000     15.6   1.70     65.0  21000000  \n",
       "99    8      512     14.0   1.05     65.0  15000000  \n",
       "\n",
       "[100 rows x 9 columns]>"
      ]
     },
     "execution_count": 3,
     "metadata": {},
     "output_type": "execute_result"
    }
   ],
   "source": [
    "row_data.describe"
   ]
  },
  {
   "cell_type": "markdown",
   "id": "9e752e2d",
   "metadata": {
    "papermill": {
     "duration": 0.007947,
     "end_time": "2023-07-06T04:25:11.123802",
     "exception": false,
     "start_time": "2023-07-06T04:25:11.115855",
     "status": "completed"
    },
    "tags": []
   },
   "source": [
    "# **3. Bersihkan data yang tidak lengkap**"
   ]
  },
  {
   "cell_type": "code",
   "execution_count": 4,
   "id": "19975b26",
   "metadata": {
    "execution": {
     "iopub.execute_input": "2023-07-06T04:25:11.143274Z",
     "iopub.status.busy": "2023-07-06T04:25:11.142325Z",
     "iopub.status.idle": "2023-07-06T04:25:11.187787Z",
     "shell.execute_reply": "2023-07-06T04:25:11.186619Z"
    },
    "id": "06d4W76xx-3u",
    "outputId": "700a092c-283a-4296-926b-3573154874d5",
    "papermill": {
     "duration": 0.058134,
     "end_time": "2023-07-06T04:25:11.190435",
     "exception": false,
     "start_time": "2023-07-06T04:25:11.132301",
     "status": "completed"
    },
    "tags": []
   },
   "outputs": [
    {
     "data": {
      "text/html": [
       "<div>\n",
       "<style scoped>\n",
       "    .dataframe tbody tr th:only-of-type {\n",
       "        vertical-align: middle;\n",
       "    }\n",
       "\n",
       "    .dataframe tbody tr th {\n",
       "        vertical-align: top;\n",
       "    }\n",
       "\n",
       "    .dataframe thead th {\n",
       "        text-align: right;\n",
       "    }\n",
       "</style>\n",
       "<table border=\"1\" class=\"dataframe\">\n",
       "  <thead>\n",
       "    <tr style=\"text-align: right;\">\n",
       "      <th></th>\n",
       "      <th>Unnamed: 0</th>\n",
       "      <th>Processor</th>\n",
       "      <th>RAM</th>\n",
       "      <th>Storage</th>\n",
       "      <th>Display</th>\n",
       "      <th>Berat</th>\n",
       "      <th>Baterai</th>\n",
       "      <th>Price</th>\n",
       "    </tr>\n",
       "  </thead>\n",
       "  <tbody>\n",
       "    <tr>\n",
       "      <th>count</th>\n",
       "      <td>100.000000</td>\n",
       "      <td>100.00000</td>\n",
       "      <td>100.000000</td>\n",
       "      <td>100.000000</td>\n",
       "      <td>100.000000</td>\n",
       "      <td>100.000000</td>\n",
       "      <td>100.000000</td>\n",
       "      <td>1.000000e+02</td>\n",
       "    </tr>\n",
       "    <tr>\n",
       "      <th>mean</th>\n",
       "      <td>95.260000</td>\n",
       "      <td>4.62000</td>\n",
       "      <td>10.520000</td>\n",
       "      <td>517.520000</td>\n",
       "      <td>14.987000</td>\n",
       "      <td>1.704800</td>\n",
       "      <td>54.925000</td>\n",
       "      <td>1.127662e+07</td>\n",
       "    </tr>\n",
       "    <tr>\n",
       "      <th>std</th>\n",
       "      <td>55.445964</td>\n",
       "      <td>1.35423</td>\n",
       "      <td>3.924747</td>\n",
       "      <td>177.618618</td>\n",
       "      <td>0.846819</td>\n",
       "      <td>0.311112</td>\n",
       "      <td>28.178308</td>\n",
       "      <td>4.234714e+06</td>\n",
       "    </tr>\n",
       "    <tr>\n",
       "      <th>min</th>\n",
       "      <td>1.000000</td>\n",
       "      <td>3.00000</td>\n",
       "      <td>4.000000</td>\n",
       "      <td>256.000000</td>\n",
       "      <td>13.300000</td>\n",
       "      <td>1.050000</td>\n",
       "      <td>37.000000</td>\n",
       "      <td>5.000000e+06</td>\n",
       "    </tr>\n",
       "    <tr>\n",
       "      <th>25%</th>\n",
       "      <td>48.750000</td>\n",
       "      <td>3.00000</td>\n",
       "      <td>8.000000</td>\n",
       "      <td>512.000000</td>\n",
       "      <td>14.000000</td>\n",
       "      <td>1.500000</td>\n",
       "      <td>42.000000</td>\n",
       "      <td>8.000000e+06</td>\n",
       "    </tr>\n",
       "    <tr>\n",
       "      <th>50%</th>\n",
       "      <td>92.000000</td>\n",
       "      <td>5.00000</td>\n",
       "      <td>8.000000</td>\n",
       "      <td>512.000000</td>\n",
       "      <td>15.600000</td>\n",
       "      <td>1.645000</td>\n",
       "      <td>45.000000</td>\n",
       "      <td>1.025000e+07</td>\n",
       "    </tr>\n",
       "    <tr>\n",
       "      <th>75%</th>\n",
       "      <td>139.250000</td>\n",
       "      <td>5.00000</td>\n",
       "      <td>16.000000</td>\n",
       "      <td>512.000000</td>\n",
       "      <td>15.600000</td>\n",
       "      <td>1.800000</td>\n",
       "      <td>65.000000</td>\n",
       "      <td>1.400000e+07</td>\n",
       "    </tr>\n",
       "    <tr>\n",
       "      <th>max</th>\n",
       "      <td>195.000000</td>\n",
       "      <td>7.00000</td>\n",
       "      <td>16.000000</td>\n",
       "      <td>1000.000000</td>\n",
       "      <td>17.300000</td>\n",
       "      <td>2.600000</td>\n",
       "      <td>240.000000</td>\n",
       "      <td>2.500000e+07</td>\n",
       "    </tr>\n",
       "  </tbody>\n",
       "</table>\n",
       "</div>"
      ],
      "text/plain": [
       "       Unnamed: 0  Processor         RAM      Storage     Display       Berat  \\\n",
       "count  100.000000  100.00000  100.000000   100.000000  100.000000  100.000000   \n",
       "mean    95.260000    4.62000   10.520000   517.520000   14.987000    1.704800   \n",
       "std     55.445964    1.35423    3.924747   177.618618    0.846819    0.311112   \n",
       "min      1.000000    3.00000    4.000000   256.000000   13.300000    1.050000   \n",
       "25%     48.750000    3.00000    8.000000   512.000000   14.000000    1.500000   \n",
       "50%     92.000000    5.00000    8.000000   512.000000   15.600000    1.645000   \n",
       "75%    139.250000    5.00000   16.000000   512.000000   15.600000    1.800000   \n",
       "max    195.000000    7.00000   16.000000  1000.000000   17.300000    2.600000   \n",
       "\n",
       "          Baterai         Price  \n",
       "count  100.000000  1.000000e+02  \n",
       "mean    54.925000  1.127662e+07  \n",
       "std     28.178308  4.234714e+06  \n",
       "min     37.000000  5.000000e+06  \n",
       "25%     42.000000  8.000000e+06  \n",
       "50%     45.000000  1.025000e+07  \n",
       "75%     65.000000  1.400000e+07  \n",
       "max    240.000000  2.500000e+07  "
      ]
     },
     "execution_count": 4,
     "metadata": {},
     "output_type": "execute_result"
    }
   ],
   "source": [
    "data = row_data.dropna(axis=0)\n",
    "data.describe()"
   ]
  },
  {
   "cell_type": "markdown",
   "id": "4de33907",
   "metadata": {
    "papermill": {
     "duration": 0.008561,
     "end_time": "2023-07-06T04:25:11.208354",
     "exception": false,
     "start_time": "2023-07-06T04:25:11.199793",
     "status": "completed"
    },
    "tags": []
   },
   "source": [
    "Memeriksa tipe data mana saja yang bernilai integer dan float untuk diolah selanjutnya"
   ]
  },
  {
   "cell_type": "code",
   "execution_count": 5,
   "id": "fcab2917",
   "metadata": {
    "execution": {
     "iopub.execute_input": "2023-07-06T04:25:11.228036Z",
     "iopub.status.busy": "2023-07-06T04:25:11.227055Z",
     "iopub.status.idle": "2023-07-06T04:25:11.234092Z",
     "shell.execute_reply": "2023-07-06T04:25:11.233102Z"
    },
    "id": "aQAl16qAy2GB",
    "outputId": "ba47897a-317b-419c-a052-6bf0405e613a",
    "papermill": {
     "duration": 0.019456,
     "end_time": "2023-07-06T04:25:11.236760",
     "exception": false,
     "start_time": "2023-07-06T04:25:11.217304",
     "status": "completed"
    },
    "tags": []
   },
   "outputs": [
    {
     "name": "stdout",
     "output_type": "stream",
     "text": [
      "Unnamed: 0       int64\n",
      "Nama Laptop     object\n",
      "Processor        int64\n",
      "RAM              int64\n",
      "Storage          int64\n",
      "Display        float64\n",
      "Berat          float64\n",
      "Baterai        float64\n",
      "Price            int64\n",
      "dtype: object\n"
     ]
    }
   ],
   "source": [
    "print (row_data.dtypes)"
   ]
  },
  {
   "cell_type": "markdown",
   "id": "cd53bc29",
   "metadata": {
    "papermill": {
     "duration": 0.008698,
     "end_time": "2023-07-06T04:25:11.254457",
     "exception": false,
     "start_time": "2023-07-06T04:25:11.245759",
     "status": "completed"
    },
    "tags": []
   },
   "source": [
    "# **4. Definisikan input output data yang menggunakan tipe data integer dan float**"
   ]
  },
  {
   "cell_type": "code",
   "execution_count": 6,
   "id": "f67951cc",
   "metadata": {
    "execution": {
     "iopub.execute_input": "2023-07-06T04:25:11.274203Z",
     "iopub.status.busy": "2023-07-06T04:25:11.273207Z",
     "iopub.status.idle": "2023-07-06T04:25:11.283330Z",
     "shell.execute_reply": "2023-07-06T04:25:11.282075Z"
    },
    "id": "Hdr6PeSny4Nk",
    "outputId": "baed89ac-324e-42a9-960e-fab1d40f0ada",
    "papermill": {
     "duration": 0.022205,
     "end_time": "2023-07-06T04:25:11.285863",
     "exception": false,
     "start_time": "2023-07-06T04:25:11.263658",
     "status": "completed"
    },
    "tags": []
   },
   "outputs": [
    {
     "data": {
      "text/plain": [
       "((100, 6), (100,))"
      ]
     },
     "execution_count": 6,
     "metadata": {},
     "output_type": "execute_result"
    }
   ],
   "source": [
    "features = ['Processor', 'RAM', 'Storage', 'Display', 'Berat','Baterai']\n",
    "x = data[features]\n",
    "y = data['Price']\n",
    "x.shape, y.shape"
   ]
  },
  {
   "cell_type": "markdown",
   "id": "cc7adfea",
   "metadata": {
    "papermill": {
     "duration": 0.009904,
     "end_time": "2023-07-06T04:25:11.305862",
     "exception": false,
     "start_time": "2023-07-06T04:25:11.295958",
     "status": "completed"
    },
    "tags": []
   },
   "source": [
    "# **5. Membagi data untuk training dan validasi (test)**"
   ]
  },
  {
   "cell_type": "code",
   "execution_count": 7,
   "id": "92049245",
   "metadata": {
    "execution": {
     "iopub.execute_input": "2023-07-06T04:25:11.327072Z",
     "iopub.status.busy": "2023-07-06T04:25:11.326686Z",
     "iopub.status.idle": "2023-07-06T04:25:11.345944Z",
     "shell.execute_reply": "2023-07-06T04:25:11.344792Z"
    },
    "id": "Lpx4JJzDzGZe",
    "papermill": {
     "duration": 0.032711,
     "end_time": "2023-07-06T04:25:11.348549",
     "exception": false,
     "start_time": "2023-07-06T04:25:11.315838",
     "status": "completed"
    },
    "tags": []
   },
   "outputs": [],
   "source": [
    "from sklearn.model_selection import train_test_split\n",
    "train_x, test_x, train_y, test_y = train_test_split(x, y, random_state = 70)"
   ]
  },
  {
   "cell_type": "code",
   "execution_count": 8,
   "id": "ff8dc1b8",
   "metadata": {
    "execution": {
     "iopub.execute_input": "2023-07-06T04:25:11.369074Z",
     "iopub.status.busy": "2023-07-06T04:25:11.368173Z",
     "iopub.status.idle": "2023-07-06T04:25:11.375176Z",
     "shell.execute_reply": "2023-07-06T04:25:11.374157Z"
    },
    "id": "vxSEJLJJzMB3",
    "outputId": "dbf531fc-0aba-4e1d-c1cd-09eae1a4175a",
    "papermill": {
     "duration": 0.019074,
     "end_time": "2023-07-06T04:25:11.377388",
     "exception": false,
     "start_time": "2023-07-06T04:25:11.358314",
     "status": "completed"
    },
    "tags": []
   },
   "outputs": [
    {
     "data": {
      "text/plain": [
       "(25,)"
      ]
     },
     "execution_count": 8,
     "metadata": {},
     "output_type": "execute_result"
    }
   ],
   "source": [
    "test_y.shape"
   ]
  },
  {
   "cell_type": "markdown",
   "id": "28bade24",
   "metadata": {
    "papermill": {
     "duration": 0.008769,
     "end_time": "2023-07-06T04:25:11.395135",
     "exception": false,
     "start_time": "2023-07-06T04:25:11.386366",
     "status": "completed"
    },
    "tags": []
   },
   "source": [
    "# **6. Membangun machine learning model dengan algoritma K-Nearest Neighbors**"
   ]
  },
  {
   "cell_type": "code",
   "execution_count": 9,
   "id": "b2ffb160",
   "metadata": {
    "execution": {
     "iopub.execute_input": "2023-07-06T04:25:11.415383Z",
     "iopub.status.busy": "2023-07-06T04:25:11.414472Z",
     "iopub.status.idle": "2023-07-06T04:25:11.622287Z",
     "shell.execute_reply": "2023-07-06T04:25:11.620451Z"
    },
    "id": "d1VlcktRzQrL",
    "outputId": "21c5fb68-2af3-42e2-fa66-8033a143f615",
    "papermill": {
     "duration": 0.220807,
     "end_time": "2023-07-06T04:25:11.625057",
     "exception": false,
     "start_time": "2023-07-06T04:25:11.404250",
     "status": "completed"
    },
    "tags": []
   },
   "outputs": [
    {
     "name": "stdout",
     "output_type": "stream",
     "text": [
      "MSE: 5583357880800.0\n",
      "RMSE: 2362913.007454993\n",
      "MAE: 1798148.0\n",
      "MAPE: 18.609914591672236\n",
      "Accuracy: 0.5266089155108398\n"
     ]
    }
   ],
   "source": [
    "from sklearn.neighbors import KNeighborsRegressor as KNN_Reg\n",
    "from sklearn.metrics import mean_squared_error as mse\n",
    "from sklearn.metrics import mean_absolute_error as mae\n",
    "import numpy as np\n",
    "\n",
    "def mean_absolute_percentage_error(y_true, y_pred):\n",
    "    return np.mean(np.abs((y_true - y_pred) / y_true)) * 100\n",
    "\n",
    "model = KNN_Reg(n_neighbors=20)\n",
    "\n",
    "# model training\n",
    "model.fit(train_x, train_y)\n",
    "acc1 = model.score(test_x, test_y)\n",
    "\n",
    "# tes untuk prediksi\n",
    "testPredict = model.predict(test_x)\n",
    "score_mse = mse(testPredict, test_y)\n",
    "score_rmse = np.sqrt(score_mse)\n",
    "score_mae = mae(testPredict, test_y)\n",
    "score_mape = mean_absolute_percentage_error(test_y, testPredict)\n",
    "\n",
    "print('MSE:', score_mse)\n",
    "print('RMSE:', score_rmse)\n",
    "print('MAE:', score_mae)\n",
    "print('MAPE:', score_mape)\n",
    "print('Accuracy:', acc1)\n"
   ]
  },
  {
   "cell_type": "markdown",
   "id": "8d4274f3",
   "metadata": {
    "papermill": {
     "duration": 0.008622,
     "end_time": "2023-07-06T04:25:11.643614",
     "exception": false,
     "start_time": "2023-07-06T04:25:11.634992",
     "status": "completed"
    },
    "tags": []
   },
   "source": [
    "# **7. Menggunakan Elbow method untuk menentukan nilak K terbaik**"
   ]
  },
  {
   "cell_type": "code",
   "execution_count": 10,
   "id": "0de4319c",
   "metadata": {
    "execution": {
     "iopub.execute_input": "2023-07-06T04:25:11.663000Z",
     "iopub.status.busy": "2023-07-06T04:25:11.662056Z",
     "iopub.status.idle": "2023-07-06T04:25:11.707547Z",
     "shell.execute_reply": "2023-07-06T04:25:11.706372Z"
    },
    "id": "tJP3PBta0R4E",
    "papermill": {
     "duration": 0.057995,
     "end_time": "2023-07-06T04:25:11.710442",
     "exception": false,
     "start_time": "2023-07-06T04:25:11.652447",
     "status": "completed"
    },
    "tags": []
   },
   "outputs": [],
   "source": [
    "# Menentukan rentang nilai K\n",
    "k_values = range(1, 11)\n",
    "mse_values = []\n",
    "\n",
    "# Melakukan iterasi KNN dan menghitung MSE\n",
    "for k in k_values:\n",
    "    model = KNN_Reg(n_neighbors=k)\n",
    "    model.fit(train_x, train_y)\n",
    "    pred_y = model.predict(test_x)\n",
    "    mse_val = mse(test_y, pred_y)\n",
    "    mse_values.append(mse_val)"
   ]
  },
  {
   "cell_type": "markdown",
   "id": "c8c847d4",
   "metadata": {
    "papermill": {
     "duration": 0.009019,
     "end_time": "2023-07-06T04:25:11.729214",
     "exception": false,
     "start_time": "2023-07-06T04:25:11.720195",
     "status": "completed"
    },
    "tags": []
   },
   "source": [
    "# **8. Menampilkan grafik nilai k berdasarkan MSE**"
   ]
  },
  {
   "cell_type": "code",
   "execution_count": 11,
   "id": "11e669e0",
   "metadata": {
    "execution": {
     "iopub.execute_input": "2023-07-06T04:25:11.748909Z",
     "iopub.status.busy": "2023-07-06T04:25:11.747882Z",
     "iopub.status.idle": "2023-07-06T04:25:12.064439Z",
     "shell.execute_reply": "2023-07-06T04:25:12.063308Z"
    },
    "id": "yeyhsBTY0YqN",
    "outputId": "adc560ab-6bef-4e80-e27f-f7abcc3558ff",
    "papermill": {
     "duration": 0.328655,
     "end_time": "2023-07-06T04:25:12.066865",
     "exception": false,
     "start_time": "2023-07-06T04:25:11.738210",
     "status": "completed"
    },
    "tags": []
   },
   "outputs": [
    {
     "data": {
      "image/png": "[encoded data removed]",
      "text/plain": [
       "<Figure size 640x480 with 1 Axes>"
      ]
     },
     "metadata": {},
     "output_type": "display_data"
    }
   ],
   "source": [
    "# Plot grafik Elbow\n",
    "plt.plot(k_values, mse_values, 'bx-')\n",
    "plt.xlabel('Jumlah Tetangga (K)')\n",
    "plt.ylabel('MSE')\n",
    "plt.title('Metode Elbow untuk Menentukan Nilai K')\n",
    "plt.show()"
   ]
  },
  {
   "cell_type": "markdown",
   "id": "0129d6a5",
   "metadata": {
    "papermill": {
     "duration": 0.00948,
     "end_time": "2023-07-06T04:25:12.086192",
     "exception": false,
     "start_time": "2023-07-06T04:25:12.076712",
     "status": "completed"
    },
    "tags": []
   },
   "source": [
    "# **9. Memperoleh Nilai dan Membangun Model Model K Terbaik**"
   ]
  },
  {
   "cell_type": "code",
   "execution_count": 12,
   "id": "6426dc6b",
   "metadata": {
    "execution": {
     "iopub.execute_input": "2023-07-06T04:25:12.107834Z",
     "iopub.status.busy": "2023-07-06T04:25:12.106849Z",
     "iopub.status.idle": "2023-07-06T04:25:12.124544Z",
     "shell.execute_reply": "2023-07-06T04:25:12.123342Z"
    },
    "papermill": {
     "duration": 0.030608,
     "end_time": "2023-07-06T04:25:12.126701",
     "exception": false,
     "start_time": "2023-07-06T04:25:12.096093",
     "status": "completed"
    },
    "tags": []
   },
   "outputs": [
    {
     "name": "stdout",
     "output_type": "stream",
     "text": [
      "Nilai K terbaik: 10\n"
     ]
    },
    {
     "data": {
      "text/html": [
       "<style>#sk-container-id-1 {color: black;background-color: white;}#sk-container-id-1 pre{padding: 0;}#sk-container-id-1 div.sk-toggleable {background-color: white;}#sk-container-id-1 label.sk-toggleable__label {cursor: pointer;display: block;width: 100%;margin-bottom: 0;padding: 0.3em;box-sizing: border-box;text-align: center;}#sk-container-id-1 label.sk-toggleable__label-arrow:before {content: \"▸\";float: left;margin-right: 0.25em;color: #696969;}#sk-container-id-1 label.sk-toggleable__label-arrow:hover:before {color: black;}#sk-container-id-1 div.sk-estimator:hover label.sk-toggleable__label-arrow:before {color: black;}#sk-container-id-1 div.sk-toggleable__content {max-height: 0;max-width: 0;overflow: hidden;text-align: left;background-color: #f0f8ff;}#sk-container-id-1 div.sk-toggleable__content pre {margin: 0.2em;color: black;border-radius: 0.25em;background-color: #f0f8ff;}#sk-container-id-1 input.sk-toggleable__control:checked~div.sk-toggleable__content {max-height: 200px;max-width: 100%;overflow: auto;}#sk-container-id-1 input.sk-toggleable__control:checked~label.sk-toggleable__label-arrow:before {content: \"▾\";}#sk-container-id-1 div.sk-estimator input.sk-toggleable__control:checked~label.sk-toggleable__label {background-color: #d4ebff;}#sk-container-id-1 div.sk-label input.sk-toggleable__control:checked~label.sk-toggleable__label {background-color: #d4ebff;}#sk-container-id-1 input.sk-hidden--visually {border: 0;clip: rect(1px 1px 1px 1px);clip: rect(1px, 1px, 1px, 1px);height: 1px;margin: -1px;overflow: hidden;padding: 0;position: absolute;width: 1px;}#sk-container-id-1 div.sk-estimator {font-family: monospace;background-color: #f0f8ff;border: 1px dotted black;border-radius: 0.25em;box-sizing: border-box;margin-bottom: 0.5em;}#sk-container-id-1 div.sk-estimator:hover {background-color: #d4ebff;}#sk-container-id-1 div.sk-parallel-item::after {content: \"\";width: 100%;border-bottom: 1px solid gray;flex-grow: 1;}#sk-container-id-1 div.sk-label:hover label.sk-toggleable__label {background-color: #d4ebff;}#sk-container-id-1 div.sk-serial::before {content: \"\";position: absolute;border-left: 1px solid gray;box-sizing: border-box;top: 0;bottom: 0;left: 50%;z-index: 0;}#sk-container-id-1 div.sk-serial {display: flex;flex-direction: column;align-items: center;background-color: white;padding-right: 0.2em;padding-left: 0.2em;position: relative;}#sk-container-id-1 div.sk-item {position: relative;z-index: 1;}#sk-container-id-1 div.sk-parallel {display: flex;align-items: stretch;justify-content: center;background-color: white;position: relative;}#sk-container-id-1 div.sk-item::before, #sk-container-id-1 div.sk-parallel-item::before {content: \"\";position: absolute;border-left: 1px solid gray;box-sizing: border-box;top: 0;bottom: 0;left: 50%;z-index: -1;}#sk-container-id-1 div.sk-parallel-item {display: flex;flex-direction: column;z-index: 1;position: relative;background-color: white;}#sk-container-id-1 div.sk-parallel-item:first-child::after {align-self: flex-end;width: 50%;}#sk-container-id-1 div.sk-parallel-item:last-child::after {align-self: flex-start;width: 50%;}#sk-container-id-1 div.sk-parallel-item:only-child::after {width: 0;}#sk-container-id-1 div.sk-dashed-wrapped {border: 1px dashed gray;margin: 0 0.4em 0.5em 0.4em;box-sizing: border-box;padding-bottom: 0.4em;background-color: white;}#sk-container-id-1 div.sk-label label {font-family: monospace;font-weight: bold;display: inline-block;line-height: 1.2em;}#sk-container-id-1 div.sk-label-container {text-align: center;}#sk-container-id-1 div.sk-container {/* jupyter's `normalize.less` sets `[hidden] { display: none; }` but bootstrap.min.css set `[hidden] { display: none !important; }` so we also need the `!important` here to be able to override the default hidden behavior on the sphinx rendered scikit-learn.org. See: https://github.com/scikit-learn/scikit-learn/issues/21755 */display: inline-block !important;position: relative;}#sk-container-id-1 div.sk-text-repr-fallback {display: none;}</style><div id=\"sk-container-id-1\" class=\"sk-top-container\"><div class=\"sk-text-repr-fallback\"><pre>KNeighborsRegressor(n_neighbors=10)</pre><b>In a Jupyter environment, please rerun this cell to show the HTML representation or trust the notebook. <br />On GitHub, the HTML representation is unable to render, please try loading this page with nbviewer.org.</b></div><div class=\"sk-container\" hidden><div class=\"sk-item\"><div class=\"sk-estimator sk-toggleable\"><input class=\"sk-toggleable__control sk-hidden--visually\" id=\"sk-estimator-id-1\" type=\"checkbox\" checked><label for=\"sk-estimator-id-1\" class=\"sk-toggleable__label sk-toggleable__label-arrow\">KNeighborsRegressor</label><div class=\"sk-toggleable__content\"><pre>KNeighborsRegressor(n_neighbors=10)</pre></div></div></div></div></div>"
      ],
      "text/plain": [
       "KNeighborsRegressor(n_neighbors=10)"
      ]
     },
     "execution_count": 12,
     "metadata": {},
     "output_type": "execute_result"
    }
   ],
   "source": [
    "# Memperoleh nilai K terbaik\n",
    "best_k = np.argmin(mse_values) + 1\n",
    "print('Nilai K terbaik:', best_k)\n",
    "\n",
    "# Membangun model dengan nilai K terbaik\n",
    "best_model = KNN_Reg(n_neighbors=best_k)\n",
    "best_model.fit(train_x, train_y)"
   ]
  },
  {
   "cell_type": "markdown",
   "id": "dd683332",
   "metadata": {
    "papermill": {
     "duration": 0.009943,
     "end_time": "2023-07-06T04:25:12.147185",
     "exception": false,
     "start_time": "2023-07-06T04:25:12.137242",
     "status": "completed"
    },
    "tags": []
   },
   "source": [
    "# **10. Menampilkan Tes Prediksi Berdasarkan MSE**"
   ]
  },
  {
   "cell_type": "code",
   "execution_count": 13,
   "id": "91ecf81a",
   "metadata": {
    "execution": {
     "iopub.execute_input": "2023-07-06T04:25:12.168315Z",
     "iopub.status.busy": "2023-07-06T04:25:12.167419Z",
     "iopub.status.idle": "2023-07-06T04:25:12.177159Z",
     "shell.execute_reply": "2023-07-06T04:25:12.175971Z"
    },
    "papermill": {
     "duration": 0.022764,
     "end_time": "2023-07-06T04:25:12.179421",
     "exception": false,
     "start_time": "2023-07-06T04:25:12.156657",
     "status": "completed"
    },
    "tags": []
   },
   "outputs": [
    {
     "name": "stdout",
     "output_type": "stream",
     "text": [
      "MSE of new model: 5173281567600.0\n",
      "MSE of old model: 5583357880800.0\n",
      "Improvement in MSE: 410076313200.0\n"
     ]
    }
   ],
   "source": [
    "# Prediction test\n",
    "testPredict_new = best_model.predict(test_x)\n",
    "mse_new = mse(test_y, testPredict_new)\n",
    "\n",
    "print('MSE of new model:', mse_new)\n",
    "print('MSE of old model:', score_mse)\n",
    "print('Improvement in MSE:', score_mse - mse_new)"
   ]
  },
  {
   "cell_type": "markdown",
   "id": "5fa3b3c5",
   "metadata": {
    "papermill": {
     "duration": 0.009566,
     "end_time": "2023-07-06T04:25:12.199608",
     "exception": false,
     "start_time": "2023-07-06T04:25:12.190042",
     "status": "completed"
    },
    "tags": []
   },
   "source": [
    "**Credit**\n",
    "1. E1E121002_FADIT AL FAUZAN\n",
    "1. E1E121026_FILDZAH KHALISHAH GHASSANI\n",
    "2. E1E121072_MUHAMMAD FADLI"
   ]
  }
 ],
 "metadata": {
  "kernelspec": {
   "display_name": "Python 3",
   "language": "python",
   "name": "python3"
  },
  "language_info": {
   "codemirror_mode": {
    "name": "ipython",
    "version": 3
   },
   "file_extension": ".py",
   "mimetype": "text/x-python",
   "name": "python",
   "nbconvert_exporter": "python",
   "pygments_lexer": "ipython3",
   "version": "3.10.10"
  },
  "papermill": {
   "default_parameters": {},
   "duration": 15.575925,
   "end_time": "2023-07-06T04:25:13.030563",
   "environment_variables": {},
   "exception": null,
   "input_path": "__notebook__.ipynb",
   "output_path": "__notebook__.ipynb",
   "parameters": {},
   "start_time": "2023-07-06T04:24:57.454638",
   "version": "2.4.0"
  }
 },
 "nbformat": 4,
 "nbformat_minor": 5
}
